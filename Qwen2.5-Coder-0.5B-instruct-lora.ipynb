{
 "cells": [
  {
   "cell_type": "code",
   "execution_count": 1,
   "id": "968b3659-a0f4-4dd9-866e-936cd3b3512c",
   "metadata": {},
   "outputs": [],
   "source": [
    "from datasets import Dataset\n",
    "import pandas as pd\n",
    "from transformers import AutoTokenizer, AutoModelForCausalLM, DataCollatorForSeq2Seq, TrainingArguments, Trainer, GenerationConfig"
   ]
  },
  {
   "cell_type": "code",
   "execution_count": 3,
   "id": "3e4b2293-3762-4b5c-939b-2dab7a0955ae",
   "metadata": {},
   "outputs": [],
   "source": [
    "# 将JSON文件转换为CSV文件\n",
    "df = pd.read_json('./dataset/input.json')\n",
    "ds = Dataset.from_pandas(df)"
   ]
  },
  {
   "cell_type": "code",
   "execution_count": 4,
   "id": "2400d0f1-162c-477c-a650-f5ce1a3a72d0",
   "metadata": {},
   "outputs": [
    {
     "data": {
      "text/plain": [
       "{'instruction': ['实现一个基于AJX.PureComponent的纯组件基类，提供基础组件功能。定义FOXPureComponent类，继承自AJX.PureComponent，实现基础的组件构造和渲染功能。该组件作为其他业务组件的基类，用于公共交通相关页面组件的开发',\n",
       "  '公交详情列表容器组件，负责渲染和管理公交路线详情列表，包括实时信息、碳排放数据等内容展示。管理公交详情列表的核心容器组件，处理列表渲染、滚动定位、实时数据更新等功能。集成了紧急情况提示、碳排放信息展示、列表滚动定位等特性，支持自定义公交、火车等多种交通方式的展示。',\n",
       "  '管理高德地图实例和参数构建的核心模块。实现地图实例管理、参数构建和地图状态配置的功能模块。提供地图实例的获取、缓存管理，以及构建地图配置参数的能力，支持图层设置、地图状态配置和组件管理。'],\n",
       " 'output': [\"import * as AJX from 'FOXRax.js';\\n\\nexport default class FOXPureComponent extends AJX.PureComponent {\\n    constructor(spec) {\\n        super(spec);\\n    }\\n\\n    render() {\\n        return [];\\n    }\\n}\",\n",
       "  'export default class BusDetailListContainer extends FOXPureComponent {\\n    constructor(props) {\\n        super(props);\\n        this.iconAnimation = [];\\n        this.listNode = this.listNode.bind(this);\\n    }\\n    componentWillMount() {...}\\n    render() {...}\\n    onBusPathEmergencyGetEmptyNode() {...}\\n    formatCarbonText(originalData, index) {...}\\n    listNode() {...}\\n    componentWillReceiveProps() {...}\\n    componentDidMount() {...}\\n    componentDidUpdate() {...}\\n    scrollListToThisCell(listNode, cellToSlide, animation) {...}\\n}',\n",
       "  \"'use strict';\\nObject.defineProperty(exports, '__esModule', { value: true });\\nconst VMap2Root_1 = require('./overlay/VMap2Root');\\nconst dslHelper_1 = require('./core/dslHelper');\\nconst VMapUtils = require('./core/VMapUtils');\\nconst VMAP2Const_1 = require('./overlay/VMAP2Const');\\nexports.default = {\\n    _vMaps: {},\\n    getVMap(config = { isGlobal: false, engineId: 1 }) {\\n        const key = this.getVMapKey(config);\\n        const vMaps = this._vMaps;\\n        if (vMaps[key]) {\\n            return vMaps[key];\\n        }\\n        vMaps[key] = new VMap2Root_1.default(config);\\n        return vMaps[key];\\n    },\\n    getVMapKey({ engineId = 1, isGlobal = false }) {\\n        return [engineId, isGlobal].join('-');\\n    },\\n    getParamBuilder() {\\n        let result = {};\\n        const builder = {\\n            setInheritCurrentMap: function (isInherit) {\\n                if (isInherit) {\\n                    result['inheritCurrentMap'] = '1';\\n                } else {\\n                    result['inheritCurrentMap'] = '0';\\n                }\\n            },\\n            setOverlay: function (overlays) {\\n                if (!result.layers) {\\n                    result.layers = [];\\n                }\\n                if (!Array.isArray(overlays)) {\\n                    overlays = [overlays];\\n                }\\n                const overlaysDsl = overlays.map((overlay) => {\\n                    let overlayDsl = {};\\n                    let itemsDsl = [];\\n                    const items = overlay.children;\\n                    const actionForDSL = 'add';\\n                    overlayDsl = dslHelper_1.default.node2Dsl(overlay, overlayDsl);\\n                    itemsDsl = items.map((item) => {\\n                        const itemDsl = {\\n                            properties: {\\n                                bExternalDataForDSL: false,\\n                            },\\n                        };\\n                        itemDsl.itemId = item.id;\\n                        itemDsl.properties.nActionForDSL = actionForDSL;\\n                        return dslHelper_1.default.node2Dsl(item, itemDsl);\\n                    });\\n                    overlayDsl.layerId = overlay.id;\\n                    overlayDsl.type = overlay.type;\\n                    overlayDsl.items = itemsDsl;\\n                    overlayDsl.nActionForDSL = actionForDSL;\\n                    return overlayDsl;\\n                });\\n                result.layers = result.layers.concat(overlaysDsl);\\n            },\\n            setMapState(states) {\\n                const mapStateSetting = {};\\n                const mockRoot = {\\n                    __dsl_type__: VMAP2Const_1.NODE_TYPE.MAP_ROOT,\\n                };\\n                for (let key in states) {\\n                    const val = states[key];\\n                    VMapUtils.attr(key, val, mockRoot, mapStateSetting);\\n                }\\n                Object.assign(result, mapStateSetting);\\n            },\\n            setComponents(components) {\\n                result.components = result.components || [];\\n                if (!Array.isArray(components)) {\\n                    components = [components];\\n                }\\n                const componentsDsl = components.map((component) => {\\n                    const itemDsl = {\\n                        nActionForDSL: 'add',\\n                    };\\n                    dslHelper_1.default.node2Dsl(component, itemDsl);\\n                    return itemDsl;\\n                });\\n                result.components = result.components.concat(componentsDsl);\\n            },\\n            valueOf() {\\n                return result;\\n            },\\n            clear() {\\n                result = {};\\n            },\\n        };\\n        return builder;\\n    },\\n};\"]}"
      ]
     },
     "execution_count": 4,
     "metadata": {},
     "output_type": "execute_result"
    }
   ],
   "source": [
    "ds[:3]"
   ]
  },
  {
   "cell_type": "code",
   "execution_count": 5,
   "id": "56aa4253-a3b1-441d-b24f-88a78d1732d1",
   "metadata": {},
   "outputs": [
    {
     "data": {
      "text/plain": [
       "Qwen2Tokenizer(name_or_path='./Qwen/Qwen2.5-Coder-0.5B-Instruct', vocab_size=151643, model_max_length=32768, is_fast=False, padding_side='right', truncation_side='right', special_tokens={'eos_token': '<|im_end|>', 'pad_token': '<|endoftext|>', 'additional_special_tokens': ['<|im_start|>', '<|im_end|>', '<|object_ref_start|>', '<|object_ref_end|>', '<|box_start|>', '<|box_end|>', '<|quad_start|>', '<|quad_end|>', '<|vision_start|>', '<|vision_end|>', '<|vision_pad|>', '<|image_pad|>', '<|video_pad|>']}, clean_up_tokenization_spaces=False, added_tokens_decoder={\n",
       "\t151643: AddedToken(\"<|endoftext|>\", rstrip=False, lstrip=False, single_word=False, normalized=False, special=True),\n",
       "\t151644: AddedToken(\"<|im_start|>\", rstrip=False, lstrip=False, single_word=False, normalized=False, special=True),\n",
       "\t151645: AddedToken(\"<|im_end|>\", rstrip=False, lstrip=False, single_word=False, normalized=False, special=True),\n",
       "\t151646: AddedToken(\"<|object_ref_start|>\", rstrip=False, lstrip=False, single_word=False, normalized=False, special=True),\n",
       "\t151647: AddedToken(\"<|object_ref_end|>\", rstrip=False, lstrip=False, single_word=False, normalized=False, special=True),\n",
       "\t151648: AddedToken(\"<|box_start|>\", rstrip=False, lstrip=False, single_word=False, normalized=False, special=True),\n",
       "\t151649: AddedToken(\"<|box_end|>\", rstrip=False, lstrip=False, single_word=False, normalized=False, special=True),\n",
       "\t151650: AddedToken(\"<|quad_start|>\", rstrip=False, lstrip=False, single_word=False, normalized=False, special=True),\n",
       "\t151651: AddedToken(\"<|quad_end|>\", rstrip=False, lstrip=False, single_word=False, normalized=False, special=True),\n",
       "\t151652: AddedToken(\"<|vision_start|>\", rstrip=False, lstrip=False, single_word=False, normalized=False, special=True),\n",
       "\t151653: AddedToken(\"<|vision_end|>\", rstrip=False, lstrip=False, single_word=False, normalized=False, special=True),\n",
       "\t151654: AddedToken(\"<|vision_pad|>\", rstrip=False, lstrip=False, single_word=False, normalized=False, special=True),\n",
       "\t151655: AddedToken(\"<|image_pad|>\", rstrip=False, lstrip=False, single_word=False, normalized=False, special=True),\n",
       "\t151656: AddedToken(\"<|video_pad|>\", rstrip=False, lstrip=False, single_word=False, normalized=False, special=True),\n",
       "\t151657: AddedToken(\"<tool_call>\", rstrip=False, lstrip=False, single_word=False, normalized=False, special=False),\n",
       "\t151658: AddedToken(\"</tool_call>\", rstrip=False, lstrip=False, single_word=False, normalized=False, special=False),\n",
       "\t151659: AddedToken(\"<|fim_prefix|>\", rstrip=False, lstrip=False, single_word=False, normalized=False, special=False),\n",
       "\t151660: AddedToken(\"<|fim_middle|>\", rstrip=False, lstrip=False, single_word=False, normalized=False, special=False),\n",
       "\t151661: AddedToken(\"<|fim_suffix|>\", rstrip=False, lstrip=False, single_word=False, normalized=False, special=False),\n",
       "\t151662: AddedToken(\"<|fim_pad|>\", rstrip=False, lstrip=False, single_word=False, normalized=False, special=False),\n",
       "\t151663: AddedToken(\"<|repo_name|>\", rstrip=False, lstrip=False, single_word=False, normalized=False, special=False),\n",
       "\t151664: AddedToken(\"<|file_sep|>\", rstrip=False, lstrip=False, single_word=False, normalized=False, special=False),\n",
       "}\n",
       ")"
      ]
     },
     "execution_count": 5,
     "metadata": {},
     "output_type": "execute_result"
    }
   ],
   "source": [
    "tokenizer = AutoTokenizer.from_pretrained('./Qwen/Qwen2.5-Coder-0.5B-Instruct', use_fast=False, trust_remote_code=True)\n",
    "tokenizer"
   ]
  },
  {
   "cell_type": "code",
   "execution_count": 8,
   "id": "12df8a44-3ab8-4a19-8b39-967cb76d0709",
   "metadata": {},
   "outputs": [],
   "source": [
    "def process_func(example):\n",
    "    MAX_LENGTH = 4096    # Llama分词器会将一个中文字切分为多个token，因此需要放开一些最大长度，保证数据的完整性\n",
    "    input_ids, attention_mask, labels = [], [], []\n",
    "    instruction = tokenizer(f\"<|im_start|>system\\n你是一个专业的代码专家，熟悉AJX语言，熟悉高德地图前端开发，熟悉公共交通业务，能够根据高德地图前端开发需求，开发代码。<|im_end|>\\n<|im_start|>user\\n{example['instruction'] }<|im_end|>\\n<|im_start|>assistant\\n\", add_special_tokens=False)  # add_special_tokens 不在开头加 special_tokens\n",
    "    response = tokenizer(f\"{example['output']}\", add_special_tokens=False)\n",
    "    input_ids = instruction[\"input_ids\"] + response[\"input_ids\"] + [tokenizer.pad_token_id]\n",
    "    attention_mask = instruction[\"attention_mask\"] + response[\"attention_mask\"] + [1]  # 因为eos token咱们也是要关注的所以 补充为1\n",
    "    labels = [-100] * len(instruction[\"input_ids\"]) + response[\"input_ids\"] + [tokenizer.pad_token_id]  \n",
    "    if len(input_ids) > MAX_LENGTH:  # 做一个截断\n",
    "        input_ids = input_ids[:MAX_LENGTH]\n",
    "        attention_mask = attention_mask[:MAX_LENGTH]\n",
    "        labels = labels[:MAX_LENGTH]\n",
    "    return {\n",
    "        \"input_ids\": input_ids,\n",
    "        \"attention_mask\": attention_mask,\n",
    "        \"labels\": labels\n",
    "    }"
   ]
  },
  {
   "cell_type": "code",
   "execution_count": 9,
   "id": "7319b6c4-e5d0-47da-9dea-4f28f82e01dc",
   "metadata": {},
   "outputs": [
    {
     "data": {
      "application/vnd.jupyter.widget-view+json": {
       "model_id": "152ef9a21a984abfbcce00452d11a742",
       "version_major": 2,
       "version_minor": 0
      },
      "text/plain": [
       "Map:   0%|          | 0/508 [00:00<?, ? examples/s]"
      ]
     },
     "metadata": {},
     "output_type": "display_data"
    },
    {
     "data": {
      "text/plain": [
       "Dataset({\n",
       "    features: ['input_ids', 'attention_mask', 'labels'],\n",
       "    num_rows: 508\n",
       "})"
      ]
     },
     "execution_count": 9,
     "metadata": {},
     "output_type": "execute_result"
    }
   ],
   "source": [
    "tokenized_id = ds.map(process_func, remove_columns=ds.column_names)\n",
    "tokenized_id"
   ]
  },
  {
   "cell_type": "code",
   "execution_count": 10,
   "id": "0c2071a6-b31b-4a5e-9b21-bdd6d9ae41c9",
   "metadata": {},
   "outputs": [
    {
     "data": {
      "text/plain": [
       "\"<|im_start|>system\\n你是一个专业的代码专家，熟悉AJX语言，熟悉高德地图前端开发，熟悉公共交通业务，能够根据高德地图前端开发需求，开发代码。<|im_end|>\\n<|im_start|>user\\n实现一个基于AJX.PureComponent的纯组件基类，提供基础组件功能。定义FOXPureComponent类，继承自AJX.PureComponent，实现基础的组件构造和渲染功能。该组件作为其他业务组件的基类，用于公共交通相关页面组件的开发<|im_end|>\\n<|im_start|>assistant\\nimport * as AJX from 'FOXRax.js';\\n\\nexport default class FOXPureComponent extends AJX.PureComponent {\\n    constructor(spec) {\\n        super(spec);\\n    }\\n\\n    render() {\\n        return [];\\n    }\\n}<|endoftext|>\""
      ]
     },
     "execution_count": 10,
     "metadata": {},
     "output_type": "execute_result"
    }
   ],
   "source": [
    "tokenizer.decode(tokenized_id[0]['input_ids'])"
   ]
  },
  {
   "cell_type": "code",
   "execution_count": 11,
   "id": "5bc95adb-6b98-4378-bf90-863c5e367491",
   "metadata": {},
   "outputs": [
    {
     "data": {
      "text/plain": [
       "'export default class BusDetailListContainer extends FOXPureComponent {\\n    constructor(props) {\\n        super(props);\\n        this.iconAnimation = [];\\n        this.listNode = this.listNode.bind(this);\\n    }\\n    componentWillMount() {...}\\n    render() {...}\\n    onBusPathEmergencyGetEmptyNode() {...}\\n    formatCarbonText(originalData, index) {...}\\n    listNode() {...}\\n    componentWillReceiveProps() {...}\\n    componentDidMount() {...}\\n    componentDidUpdate() {...}\\n    scrollListToThisCell(listNode, cellToSlide, animation) {...}\\n}<|endoftext|>'"
      ]
     },
     "execution_count": 11,
     "metadata": {},
     "output_type": "execute_result"
    }
   ],
   "source": [
    "tokenizer.decode(list(filter(lambda x: x != -100, tokenized_id[1][\"labels\"])))"
   ]
  },
  {
   "cell_type": "code",
   "execution_count": 12,
   "id": "daac681e-015b-4412-8c9f-9da8361d28de",
   "metadata": {},
   "outputs": [],
   "source": [
    "import torch"
   ]
  },
  {
   "cell_type": "code",
   "execution_count": 13,
   "id": "7b5d6464-acc0-4a94-ad43-3bfdd23e6f4c",
   "metadata": {},
   "outputs": [
    {
     "data": {
      "text/plain": [
       "Qwen2ForCausalLM(\n",
       "  (model): Qwen2Model(\n",
       "    (embed_tokens): Embedding(151936, 896)\n",
       "    (layers): ModuleList(\n",
       "      (0-23): 24 x Qwen2DecoderLayer(\n",
       "        (self_attn): Qwen2Attention(\n",
       "          (q_proj): Linear(in_features=896, out_features=896, bias=True)\n",
       "          (k_proj): Linear(in_features=896, out_features=128, bias=True)\n",
       "          (v_proj): Linear(in_features=896, out_features=128, bias=True)\n",
       "          (o_proj): Linear(in_features=896, out_features=896, bias=False)\n",
       "        )\n",
       "        (mlp): Qwen2MLP(\n",
       "          (gate_proj): Linear(in_features=896, out_features=4864, bias=False)\n",
       "          (up_proj): Linear(in_features=896, out_features=4864, bias=False)\n",
       "          (down_proj): Linear(in_features=4864, out_features=896, bias=False)\n",
       "          (act_fn): SiLU()\n",
       "        )\n",
       "        (input_layernorm): Qwen2RMSNorm((896,), eps=1e-06)\n",
       "        (post_attention_layernorm): Qwen2RMSNorm((896,), eps=1e-06)\n",
       "      )\n",
       "    )\n",
       "    (norm): Qwen2RMSNorm((896,), eps=1e-06)\n",
       "    (rotary_emb): Qwen2RotaryEmbedding()\n",
       "  )\n",
       "  (lm_head): Linear(in_features=896, out_features=151936, bias=False)\n",
       ")"
      ]
     },
     "execution_count": 13,
     "metadata": {},
     "output_type": "execute_result"
    }
   ],
   "source": [
    "model = AutoModelForCausalLM.from_pretrained('./Qwen/Qwen2.5-Coder-0.5B-Instruct/', device_map=\"auto\",torch_dtype=torch.bfloat16)\n",
    "model"
   ]
  },
  {
   "cell_type": "code",
   "execution_count": 14,
   "id": "63124620-6f4f-4020-bfee-7be44aedc805",
   "metadata": {},
   "outputs": [],
   "source": [
    "model.enable_input_require_grads() # 开启梯度检查点时，要执行该方法"
   ]
  },
  {
   "cell_type": "code",
   "execution_count": 15,
   "id": "c4903968-c561-40d8-b450-a5a7ec231037",
   "metadata": {},
   "outputs": [
    {
     "data": {
      "text/plain": [
       "torch.bfloat16"
      ]
     },
     "execution_count": 15,
     "metadata": {},
     "output_type": "execute_result"
    }
   ],
   "source": [
    "model.dtype"
   ]
  },
  {
   "cell_type": "markdown",
   "id": "5f9fbb37-ccff-42ef-aa60-6e01c10084ae",
   "metadata": {},
   "source": [
    "# lora"
   ]
  },
  {
   "cell_type": "code",
   "execution_count": 48,
   "id": "45ab5181-b560-42f5-b485-991feacf8779",
   "metadata": {},
   "outputs": [
    {
     "data": {
      "text/plain": [
       "LoraConfig(peft_type=<PeftType.LORA: 'LORA'>, auto_mapping=None, base_model_name_or_path=None, revision=None, task_type=<TaskType.CAUSAL_LM: 'CAUSAL_LM'>, inference_mode=False, r=4, target_modules={'v_proj', 'up_proj', 'q_proj', 'k_proj', 'down_proj', 'gate_proj', 'o_proj'}, lora_alpha=32, lora_dropout=0.1, fan_in_fan_out=False, bias='none', use_rslora=False, modules_to_save=None, init_lora_weights=True, layers_to_transform=None, layers_pattern=None, rank_pattern={}, alpha_pattern={}, megatron_config=None, megatron_core='megatron.core', loftq_config={}, use_dora=False, layer_replication=None, runtime_config=LoraRuntimeConfig(ephemeral_gpu_offload=False))"
      ]
     },
     "execution_count": 48,
     "metadata": {},
     "output_type": "execute_result"
    }
   ],
   "source": [
    "from peft import LoraConfig, TaskType, get_peft_model\n",
    "\n",
    "config = LoraConfig(\n",
    "    task_type=TaskType.CAUSAL_LM, \n",
    "    target_modules=[\"q_proj\", \"k_proj\", \"v_proj\", \"o_proj\", \"gate_proj\", \"up_proj\", \"down_proj\"],\n",
    "    inference_mode=False, # 训练模式\n",
    "    r=4, # Lora 秩\n",
    "    lora_alpha=32, # Lora alaph，具体作用参见 Lora 原理\n",
    "    lora_dropout=0.1# Dropout 比例\n",
    ")\n",
    "config"
   ]
  },
  {
   "cell_type": "code",
   "execution_count": 49,
   "id": "73403447-e6f8-436d-a6ae-9a3e62d697dd",
   "metadata": {},
   "outputs": [
    {
     "data": {
      "text/plain": [
       "LoraConfig(peft_type=<PeftType.LORA: 'LORA'>, auto_mapping=None, base_model_name_or_path='./Qwen/Qwen2.5-Coder-0.5B-Instruct/', revision=None, task_type=<TaskType.CAUSAL_LM: 'CAUSAL_LM'>, inference_mode=False, r=4, target_modules={'v_proj', 'up_proj', 'q_proj', 'k_proj', 'down_proj', 'gate_proj', 'o_proj'}, lora_alpha=32, lora_dropout=0.1, fan_in_fan_out=False, bias='none', use_rslora=False, modules_to_save=None, init_lora_weights=True, layers_to_transform=None, layers_pattern=None, rank_pattern={}, alpha_pattern={}, megatron_config=None, megatron_core='megatron.core', loftq_config={}, use_dora=False, layer_replication=None, runtime_config=LoraRuntimeConfig(ephemeral_gpu_offload=False))"
      ]
     },
     "execution_count": 49,
     "metadata": {},
     "output_type": "execute_result"
    }
   ],
   "source": [
    "model = get_peft_model(model, config)\n",
    "config"
   ]
  },
  {
   "cell_type": "code",
   "execution_count": 50,
   "id": "bdadeda7-40c7-4d13-bb10-2342f2589b59",
   "metadata": {},
   "outputs": [
    {
     "name": "stdout",
     "output_type": "stream",
     "text": [
      "trainable params: 2,199,552 || all params: 496,232,320 || trainable%: 0.4433\n"
     ]
    }
   ],
   "source": [
    "model.print_trainable_parameters()"
   ]
  },
  {
   "cell_type": "markdown",
   "id": "f1bcf2d8-27ba-46e7-afc3-0af4564f0bcd",
   "metadata": {},
   "source": [
    "# 配置训练参数"
   ]
  },
  {
   "cell_type": "code",
   "execution_count": 51,
   "id": "f2ebb791-793f-43c4-95a1-25b5d5e0b070",
   "metadata": {},
   "outputs": [],
   "source": [
    "args = TrainingArguments(\n",
    "    output_dir=\"./output/Qwen2.5-Coder-0.5B-Instruct\",\n",
    "    per_device_train_batch_size=1,\n",
    "    gradient_accumulation_steps=12,\n",
    "    logging_steps=10, # 每多少个步骤记录一次训练日志\n",
    "    num_train_epochs=2,\n",
    "    save_steps=10, # 每多少个步骤保存一次模型检查点\n",
    "    learning_rate=1e-3,\n",
    "    save_on_each_node=False, # 如果使用分布式训练，每个节点都会保存自己的模型检查点。对于单机多卡训练，通常不需要设置为 True。\n",
    "    gradient_checkpointing=True\n",
    ")"
   ]
  },
  {
   "cell_type": "code",
   "execution_count": 52,
   "id": "9daa30c2-752c-49db-888a-af48baaa434e",
   "metadata": {},
   "outputs": [],
   "source": [
    "trainer = Trainer(\n",
    "    model=model,\n",
    "    args=args,\n",
    "    train_dataset=tokenized_id,\n",
    "    data_collator=DataCollatorForSeq2Seq(tokenizer=tokenizer, padding=True),\n",
    ")"
   ]
  },
  {
   "cell_type": "code",
   "execution_count": null,
   "id": "d051dc78-00a8-4d89-aa36-7ed70b5bf71b",
   "metadata": {
    "scrolled": true
   },
   "outputs": [],
   "source": [
    "trainer.train()"
   ]
  },
  {
   "cell_type": "markdown",
   "id": "3b30430b",
   "metadata": {},
   "source": [
    "# 测试模型效果"
   ]
  },
  {
   "cell_type": "code",
   "execution_count": 51,
   "id": "48dae808",
   "metadata": {},
   "outputs": [],
   "source": [
    "# 推理部分\n",
    "def generate_response(is_fineturn, prompt):\n",
    "    from transformers import AutoModelForCausalLM, AutoTokenizer\n",
    "    from peft import PeftModel\n",
    "    import torch\n",
    "\n",
    "\n",
    "    mode_path = 'Qwen/Qwen2.5-Coder-0.5B-Instruct/'\n",
    "    adapter_path = 'output/Qwen2.5-Coder-0.5B-Instruct-Lora/checkpoint-20/' # 这里改称你的 lora 输出对应 checkpoint 地址\n",
    "\n",
    "    # 加载tokenizer\n",
    "    tokenizer = AutoTokenizer.from_pretrained(mode_path, trust_remote_code=True)\n",
    "\n",
    "    # 加载基础模型\n",
    "    model = AutoModelForCausalLM.from_pretrained(\n",
    "        mode_path, \n",
    "        device_map=\"auto\",\n",
    "        torch_dtype=torch.bfloat16,\n",
    "        trust_remote_code=True\n",
    "    ).eval()\n",
    "    if is_fineturn:\n",
    "        # 加载adapter权重\n",
    "        model = PeftModel.from_pretrained(model, adapter_path)\n",
    "    device = torch.device(\"cuda\" if torch.cuda.is_available() else \"mps\")\n",
    "    # 生成测试\n",
    "    inputs = tokenizer.apply_chat_template(\n",
    "        [\n",
    "        # {\"role\":\"system\",\"content\":\"你是一个专业的代码专家，熟悉AJX语言，熟悉高德地图前端开发，熟悉公共交通业务，能够根据高德地图前端开发需求，开发代码。\"},\n",
    "        {\"role\": \"user\", \"content\": prompt}],\n",
    "        add_generation_prompt=True,\n",
    "        tokenize=True,\n",
    "        return_tensors=\"pt\",\n",
    "        return_dict=True\n",
    "    ).to(device)\n",
    "\n",
    "    gen_config = {\"max_length\": 4096, \"do_sample\": True, \"top_k\": 1, \"temperature\": 0.1}\n",
    "    \n",
    "    with torch.no_grad():\n",
    "        outputs = model.generate(**inputs, **gen_config)\n",
    "        outputs = outputs[:, inputs['input_ids'].shape[1]:]\n",
    "        return tokenizer.decode(outputs[0], skip_special_tokens=True)"
   ]
  },
  {
   "cell_type": "code",
   "execution_count": 52,
   "id": "5ff69a89",
   "metadata": {},
   "outputs": [
    {
     "name": "stdout",
     "output_type": "stream",
     "text": [
      "我是阿里云开发的超大规模语言模型，旨在帮助用户解决问题、创作内容和提供信息。\n",
      "我是Qwen，由OpenAI开发的超大规模语言模型，致力于帮助用户解决问题、创作文字和语音内容。\n"
     ]
    }
   ],
   "source": [
    "# 测试生成\n",
    "test_prompt = \"你是谁？\"\n",
    "response1 = generate_response(False, test_prompt)\n",
    "print(response1)\n",
    "response2 = generate_response(True,test_prompt)\n",
    "print(response2)"
   ]
  }
 ],
 "metadata": {
  "kernelspec": {
   "display_name": "3.10.14",
   "language": "python",
   "name": "python3"
  },
  "language_info": {
   "codemirror_mode": {
    "name": "ipython",
    "version": 3
   },
   "file_extension": ".py",
   "mimetype": "text/x-python",
   "name": "python",
   "nbconvert_exporter": "python",
   "pygments_lexer": "ipython3",
   "version": "3.10.14"
  }
 },
 "nbformat": 4,
 "nbformat_minor": 5
}
